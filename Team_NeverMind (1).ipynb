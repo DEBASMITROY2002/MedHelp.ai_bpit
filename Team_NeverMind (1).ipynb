{
  "nbformat": 4,
  "nbformat_minor": 0,
  "metadata": {
    "colab": {
      "provenance": [],
      "collapsed_sections": [
        "iSYy2lH_hTLN",
        "g3gGBISFBlNg",
        "hPYHokchcTgU",
        "N2F9BygSVg44",
        "id_rBW9jcZzE",
        "HDSAuRDWDCRa",
        "Zxc_e6JoeETK"
      ]
    },
    "kernelspec": {
      "name": "python3",
      "display_name": "Python 3"
    },
    "language_info": {
      "name": "python"
    }
  },
  "cells": [
    {
      "cell_type": "markdown",
      "source": [
        "# Imports"
      ],
      "metadata": {
        "id": "iSYy2lH_hTLN"
      }
    },
    {
      "cell_type": "code",
      "execution_count": null,
      "metadata": {
        "colab": {
          "base_uri": "https://localhost:8080/"
        },
        "id": "8AF0BaQrf3Ll",
        "outputId": "26538125-b9c7-492b-b2ef-894936804411"
      },
      "outputs": [
        {
          "output_type": "stream",
          "name": "stdout",
          "text": [
            "\u001b[2K     \u001b[90m━━━━━━━━━━━━━━━━━━━━━━━━━━━━━━━━━━━━━━━━\u001b[0m \u001b[32m809.1/809.1 kB\u001b[0m \u001b[31m5.0 MB/s\u001b[0m eta \u001b[36m0:00:00\u001b[0m\n",
            "\u001b[2K     \u001b[90m━━━━━━━━━━━━━━━━━━━━━━━━━━━━━━━━━━━━━━━━\u001b[0m \u001b[32m257.5/257.5 kB\u001b[0m \u001b[31m17.8 MB/s\u001b[0m eta \u001b[36m0:00:00\u001b[0m\n",
            "\u001b[2K     \u001b[90m━━━━━━━━━━━━━━━━━━━━━━━━━━━━━━━━━━━━━━━━\u001b[0m \u001b[32m1.8/1.8 MB\u001b[0m \u001b[31m25.9 MB/s\u001b[0m eta \u001b[36m0:00:00\u001b[0m\n",
            "\u001b[2K     \u001b[90m━━━━━━━━━━━━━━━━━━━━━━━━━━━━━━━━━━━━━━━━\u001b[0m \u001b[32m57.6/57.6 kB\u001b[0m \u001b[31m3.6 MB/s\u001b[0m eta \u001b[36m0:00:00\u001b[0m\n",
            "\u001b[2K     \u001b[90m━━━━━━━━━━━━━━━━━━━━━━━━━━━━━━━━━━━━━━━━\u001b[0m \u001b[32m1.8/1.8 MB\u001b[0m \u001b[31m47.7 MB/s\u001b[0m eta \u001b[36m0:00:00\u001b[0m\n",
            "\u001b[2K     \u001b[90m━━━━━━━━━━━━━━━━━━━━━━━━━━━━━━━━━━━━━━━━\u001b[0m \u001b[32m260.9/260.9 kB\u001b[0m \u001b[31m16.6 MB/s\u001b[0m eta \u001b[36m0:00:00\u001b[0m\n",
            "\u001b[2K     \u001b[90m━━━━━━━━━━━━━━━━━━━━━━━━━━━━━━━━━━━━━━━━\u001b[0m \u001b[32m68.0/68.0 kB\u001b[0m \u001b[31m5.7 MB/s\u001b[0m eta \u001b[36m0:00:00\u001b[0m\n",
            "\u001b[2K     \u001b[90m━━━━━━━━━━━━━━━━━━━━━━━━━━━━━━━━━━━━━━━━\u001b[0m \u001b[32m75.6/75.6 kB\u001b[0m \u001b[31m3.6 MB/s\u001b[0m eta \u001b[36m0:00:00\u001b[0m\n",
            "\u001b[2K     \u001b[90m━━━━━━━━━━━━━━━━━━━━━━━━━━━━━━━━━━━━━━━━\u001b[0m \u001b[32m1.7/1.7 MB\u001b[0m \u001b[31m23.8 MB/s\u001b[0m eta \u001b[36m0:00:00\u001b[0m\n",
            "\u001b[2K     \u001b[90m━━━━━━━━━━━━━━━━━━━━━━━━━━━━━━━━━━━━━━━━\u001b[0m \u001b[32m52.7/52.7 kB\u001b[0m \u001b[31m4.9 MB/s\u001b[0m eta \u001b[36m0:00:00\u001b[0m\n",
            "\u001b[2K     \u001b[90m━━━━━━━━━━━━━━━━━━━━━━━━━━━━━━━━━━━━━━━━\u001b[0m \u001b[32m3.1/3.1 MB\u001b[0m \u001b[31m44.6 MB/s\u001b[0m eta \u001b[36m0:00:00\u001b[0m\n",
            "\u001b[2K     \u001b[90m━━━━━━━━━━━━━━━━━━━━━━━━━━━━━━━━━━━━━━━━\u001b[0m \u001b[32m49.4/49.4 kB\u001b[0m \u001b[31m4.3 MB/s\u001b[0m eta \u001b[36m0:00:00\u001b[0m\n",
            "\u001b[2K     \u001b[90m━━━━━━━━━━━━━━━━━━━━━━━━━━━━━━━━━━━━━━━━\u001b[0m \u001b[32m77.8/77.8 kB\u001b[0m \u001b[31m7.5 MB/s\u001b[0m eta \u001b[36m0:00:00\u001b[0m\n",
            "\u001b[2K     \u001b[90m━━━━━━━━━━━━━━━━━━━━━━━━━━━━━━━━━━━━━━━━\u001b[0m \u001b[32m58.3/58.3 kB\u001b[0m \u001b[31m5.6 MB/s\u001b[0m eta \u001b[36m0:00:00\u001b[0m\n",
            "\u001b[2K     \u001b[90m━━━━━━━━━━━━━━━━━━━━━━━━━━━━━━━━━━━━━━━━\u001b[0m \u001b[32m53.0/53.0 kB\u001b[0m \u001b[31m5.6 MB/s\u001b[0m eta \u001b[36m0:00:00\u001b[0m\n",
            "\u001b[2K     \u001b[90m━━━━━━━━━━━━━━━━━━━━━━━━━━━━━━━━━━━━━━━━\u001b[0m \u001b[32m138.5/138.5 kB\u001b[0m \u001b[31m12.8 MB/s\u001b[0m eta \u001b[36m0:00:00\u001b[0m\n",
            "\u001b[?25h"
          ]
        }
      ],
      "source": [
        "!pip install -qU langchain tqdm langchain_openai pydantic openai tiktoken semantic-router"
      ]
    },
    {
      "cell_type": "code",
      "source": [
        "!pip install xmltodict wikipedia"
      ],
      "metadata": {
        "colab": {
          "base_uri": "https://localhost:8080/"
        },
        "id": "1CXjgbCVneAN",
        "outputId": "3d2709e6-02c1-4a1d-b80d-fdfee8084a07"
      },
      "execution_count": null,
      "outputs": [
        {
          "output_type": "stream",
          "name": "stdout",
          "text": [
            "Requirement already satisfied: xmltodict in /usr/local/lib/python3.10/dist-packages (0.13.0)\n",
            "Collecting wikipedia\n",
            "  Downloading wikipedia-1.4.0.tar.gz (27 kB)\n",
            "  Preparing metadata (setup.py) ... \u001b[?25l\u001b[?25hdone\n",
            "Requirement already satisfied: beautifulsoup4 in /usr/local/lib/python3.10/dist-packages (from wikipedia) (4.12.3)\n",
            "Requirement already satisfied: requests<3.0.0,>=2.0.0 in /usr/local/lib/python3.10/dist-packages (from wikipedia) (2.31.0)\n",
            "Requirement already satisfied: charset-normalizer<4,>=2 in /usr/local/lib/python3.10/dist-packages (from requests<3.0.0,>=2.0.0->wikipedia) (3.3.2)\n",
            "Requirement already satisfied: idna<4,>=2.5 in /usr/local/lib/python3.10/dist-packages (from requests<3.0.0,>=2.0.0->wikipedia) (3.6)\n",
            "Requirement already satisfied: urllib3<3,>=1.21.1 in /usr/local/lib/python3.10/dist-packages (from requests<3.0.0,>=2.0.0->wikipedia) (2.0.7)\n",
            "Requirement already satisfied: certifi>=2017.4.17 in /usr/local/lib/python3.10/dist-packages (from requests<3.0.0,>=2.0.0->wikipedia) (2024.2.2)\n",
            "Requirement already satisfied: soupsieve>1.2 in /usr/local/lib/python3.10/dist-packages (from beautifulsoup4->wikipedia) (2.5)\n",
            "Building wheels for collected packages: wikipedia\n",
            "  Building wheel for wikipedia (setup.py) ... \u001b[?25l\u001b[?25hdone\n",
            "  Created wheel for wikipedia: filename=wikipedia-1.4.0-py3-none-any.whl size=11680 sha256=f36e83c538840d447c21836e5f260fb0d9ec6c1a00e89ddbcb8a727143ab9842\n",
            "  Stored in directory: /root/.cache/pip/wheels/5e/b6/c5/93f3dec388ae76edc830cb42901bb0232504dfc0df02fc50de\n",
            "Successfully built wikipedia\n",
            "Installing collected packages: wikipedia\n",
            "Successfully installed wikipedia-1.4.0\n"
          ]
        }
      ]
    },
    {
      "cell_type": "code",
      "source": [
        "import copy\n",
        "import datetime\n",
        "import numpy as np\n",
        "import os\n",
        "import openai\n",
        "import time\n",
        "import string\n",
        "import re\n",
        "import collections\n",
        "import tiktoken\n",
        "import json\n",
        "\n",
        "from datetime import datetime as dt\n",
        "import matplotlib.pyplot as plt\n",
        "from tqdm.auto import tqdm\n",
        "from collections import defaultdict\n",
        "from typing import Optional, Type, List, Tuple\n",
        "from pydantic import BaseModel, Field\n",
        "from getpass import getpass\n",
        "import PIL\n",
        "\n",
        "from langchain.text_splitter import RecursiveCharacterTextSplitter\n",
        "from langchain.prompts import PromptTemplate\n",
        "from langchain_openai import OpenAI\n",
        "from langchain.agents import Tool,initialize_agent, AgentType, ZeroShotAgent, AgentExecutor\n",
        "from langchain.tools import BaseTool\n",
        "from langchain.chat_models import ChatOpenAI\n",
        "from langchain.output_parsers import PydanticOutputParser\n",
        "from langchain.chains import LLMChain, LLMMathChain, TransformChain, SequentialChain,  create_extraction_chain, create_extraction_chain_pydantic, create_tagging_chain, create_tagging_chain_pydantic\n",
        "from langchain_community.tools.pubmed.tool import PubmedQueryRun\n",
        "\n",
        "\n",
        "from semantic_router import Route\n",
        "from semantic_router.encoders import OpenAIEncoder\n",
        "from semantic_router.layer import RouteLayer\n",
        "\n",
        "\n",
        "from langchain.chains.question_answering import load_qa_chain\n",
        "from langchain.memory import ConversationBufferMemory\n",
        "from langchain.docstore.document import Document\n",
        "\n",
        "from langchain_core.pydantic_v1 import BaseModel, Field\n",
        "from langchain_community.tools import WikipediaQueryRun\n",
        "from langchain_community.utilities import WikipediaAPIWrapper\n",
        "\n",
        "from transformers import (\n",
        "    pipeline,\n",
        "    AutoTokenizer,\n",
        "    AutoModelForSequenceClassification,\n",
        "    CLIPProcessor,\n",
        "    CLIPModel,\n",
        "    AutoModelForMaskedLM\n",
        "    )\n",
        "import torch"
      ],
      "metadata": {
        "id": "y18FuR2ag1qV"
      },
      "execution_count": 389,
      "outputs": []
    },
    {
      "cell_type": "code",
      "source": [
        "OPENAI_API = getpass(\"OPENAI_API: \")\n",
        "# OPENAI_ORG = getpass(\"OPENAI_ORG: \")\n",
        "os.environ[\"OPENAI_API_KEY\"] =  OPENAI_API\n",
        "# os.environ[\"OPENAI_ORGANIZATION\"] = OPENAI_ORG"
      ],
      "metadata": {
        "colab": {
          "base_uri": "https://localhost:8080/"
        },
        "id": "YJr3CcwahC7x",
        "outputId": "aafabdac-f1af-497d-f7fd-b164729ae8ab"
      },
      "execution_count": null,
      "outputs": [
        {
          "name": "stdout",
          "output_type": "stream",
          "text": [
            "OPENAI_API: ··········\n"
          ]
        }
      ]
    },
    {
      "cell_type": "markdown",
      "source": [
        "# Splade Encoder"
      ],
      "metadata": {
        "id": "g3gGBISFBlNg"
      }
    },
    {
      "cell_type": "code",
      "source": [
        "class SparseModel:\n",
        "  def __init__(self):\n",
        "    self.device = 'cuda' if torch.cuda.is_available() else 'cpu'\n",
        "    self.model = AutoModelForMaskedLM.from_pretrained(\"naver/splade-cocondenser-selfdistil\").to(self.device)\n",
        "    self.sparse_tokenizer = AutoTokenizer.from_pretrained(\"naver/splade-cocondenser-selfdistil\",padding=True,truncation=True)\n",
        "\n",
        "  def decode_sparse_dict(self, sparse_dict,trim=None):\n",
        "    a = np.zeros((30522))\n",
        "    a[sparse_dict['indices']] = sparse_dict['values']\n",
        "    if trim is not None:\n",
        "      a[a.argsort()[:-trim]] = 0\n",
        "    return a\n",
        "\n",
        "  def decode_sparse_dicts(self, sparse_dicts,trim=None):\n",
        "    res = []\n",
        "    for _ in sparse_dicts:\n",
        "      res.append(self.decode_sparse_dict(_,trim).tolist())\n",
        "    return res\n",
        "\n",
        "  def formalize(self, sparse_dict):\n",
        "    idx2token = {idx: token for token, idx in self.sparse_tokenizer.get_vocab().items()}\n",
        "    sparse_dict_tokens = {\n",
        "        idx2token[idx]: weight for idx, weight in zip(sparse_dict['indices'], sparse_dict['values'])\n",
        "    }\n",
        "    sparse_dict_tokens = {\n",
        "        k: v for k, v in sorted(\n",
        "            sparse_dict_tokens.items(),\n",
        "            key=lambda item: item[1],\n",
        "            reverse=True\n",
        "        )\n",
        "    }\n",
        "    return sparse_dict_tokens\n",
        "\n",
        "  def __call__(self, texts:list):\n",
        "    sparse_dicts = []\n",
        "    sparse_vecs = []\n",
        "\n",
        "    for text in tqdm(texts):\n",
        "        input_ids = self.sparse_tokenizer(text, return_tensors='pt').to(self.device)\n",
        "\n",
        "        with torch.no_grad():\n",
        "          logits = self.model(**input_ids).logits\n",
        "\n",
        "        sparse_vec = torch.max(\n",
        "            torch.log(\n",
        "                1+torch.relu(logits)\n",
        "            )*input_ids.attention_mask.unsqueeze(-1),\n",
        "        dim=1)[0].squeeze();\n",
        "\n",
        "        # sparse_vec = sparse_vec.cpu().numpy()\n",
        "\n",
        "        indices = sparse_vec.nonzero().squeeze().cpu().tolist()\n",
        "        values = sparse_vec[indices].cpu().tolist()\n",
        "        sparse_dict = {'indices': indices, 'values': values}\n",
        "        sparse_dicts.append(sparse_dict)\n",
        "        sparse_vecs.append(np.array(sparse_vec.cpu()).tolist())\n",
        "\n",
        "    return sparse_dicts"
      ],
      "metadata": {
        "id": "94QQKeMbBn5_"
      },
      "execution_count": null,
      "outputs": []
    },
    {
      "cell_type": "markdown",
      "source": [
        "# Symptom Tagger (OpenAI Function call)"
      ],
      "metadata": {
        "id": "hPYHokchcTgU"
      }
    },
    {
      "cell_type": "code",
      "source": [
        "def run_symptom_tagger(text):\n",
        "  # keywords = review['keywords']\n",
        "\n",
        "  symp_schema = {\n",
        "      \"properties\": {\n",
        "          \"is_symptom\": {\n",
        "              \"type\": \"string\",\n",
        "              \"description\": \"Indicates whether the text contains any user provided symptoms. 'Yes' means the text contains symptoms, 'No' means it doesn't.\",\n",
        "              \"enum\": ['Yes', 'No']\n",
        "          },\n",
        "          \"symptoms\": {\n",
        "              \"type\": \"array\",\n",
        "              \"description\": \"Array of strings representing symptoms mentioned in the text.\",\n",
        "              \"items\": {\n",
        "                  \"type\": \"string\"\n",
        "              }\n",
        "          }\n",
        "      },\n",
        "      \"required\": [\"is_symptom\", \"symptoms\"]\n",
        "  }\n",
        "\n",
        "\n",
        "  symp_llm = ChatOpenAI(openai_api_key=os.getenv(\"OPENAI_API\"),temperature=0, model=\"gpt-3.5-turbo-0613\")\n",
        "  symp_chain = create_tagging_chain(symp_schema, symp_llm)\n",
        "  symp_output = symp_chain(text)['text']\n",
        "\n",
        "  return symp_output"
      ],
      "metadata": {
        "id": "FmQpo9sJcVKO"
      },
      "execution_count": null,
      "outputs": []
    },
    {
      "cell_type": "markdown",
      "source": [
        "# Filter Tagger  (OpenAI Function call)"
      ],
      "metadata": {
        "id": "N2F9BygSVg44"
      }
    },
    {
      "cell_type": "code",
      "source": [
        "def run_filter_tagger(text):\n",
        "    # List of commonly used medicines and antibiotics\n",
        "    medicines_and_antibiotics = [\n",
        "        \"Acetaminophen (Paracetamol)\",\n",
        "        \"Ibuprofen\",\n",
        "        \"Naproxen\",\n",
        "        \"Aspirin (Salicylic Acid)\",\n",
        "        \"Prednisone\",\n",
        "        \"Hydrocodone (Vicodin)\",\n",
        "        \"OxyContin (Oxycodone)\",\n",
        "        \"Morphine\",\n",
        "        \"Fentanyl\",\n",
        "        \"Warfarin (Coumadin)\",\n",
        "        \"Amoxicillin\",\n",
        "        \"Azithromycin (Zithromax)\",\n",
        "        \"Ciprofloxacin (Cipro)\",\n",
        "        \"Doxycycline\",\n",
        "        \"Penicillin\",\n",
        "        \"Clindamycin\",\n",
        "        \"Erythromycin\",\n",
        "        \"Levofloxacin (Levaquin)\",\n",
        "        \"Metronidazole (Flagyl)\",\n",
        "        \"Trimethoprim-sulfamethoxazole (Bactrim)\",\n",
        "    ]\n",
        "\n",
        "    filter_schema = {\n",
        "        \"properties\": {\n",
        "            \"is_relevant\": {\n",
        "                \"type\": \"string\",\n",
        "                \"description\": \"Indicates whether the conversation is related to medical questions/answers or any queries concerning diseases/medicines. \"\n",
        "                               \"'Yes' implies relevance to medical topics. 'No' indicates the absence of medical relevance.\",\n",
        "                \"enum\": ['Yes', 'No']\n",
        "            }\n",
        "        },\n",
        "        \"required\": [\"is_relevant\"]\n",
        "    }\n",
        "\n",
        "    filter_llm = ChatOpenAI(openai_api_key=os.getenv(\"OPENAI_API\"), temperature=0.0, model=\"gpt-3.5-turbo-0613\")\n",
        "    filter_chain = create_tagging_chain(filter_schema, filter_llm)\n",
        "    filter_output = filter_chain(text)['text']\n",
        "\n",
        "    return filter_output"
      ],
      "metadata": {
        "id": "O3evwfjHVllv"
      },
      "execution_count": 349,
      "outputs": []
    },
    {
      "cell_type": "code",
      "source": [
        "run_filter_tagger(\"Hi how are you ? \")"
      ],
      "metadata": {
        "colab": {
          "base_uri": "https://localhost:8080/"
        },
        "id": "td2gBs1qdF7r",
        "outputId": "1e5bd5b2-b001-471e-ee9b-7d88ef976e66"
      },
      "execution_count": 361,
      "outputs": [
        {
          "output_type": "execute_result",
          "data": {
            "text/plain": [
              "{'is_relevant': 'No'}"
            ]
          },
          "metadata": {},
          "execution_count": 361
        }
      ]
    },
    {
      "cell_type": "markdown",
      "source": [
        "# General Router"
      ],
      "metadata": {
        "id": "id_rBW9jcZzE"
      }
    },
    {
      "cell_type": "code",
      "source": [
        "def create_routes_for_cluster_to_multiqry(cluster_to_multiqry):\n",
        "  # Routes for different issues\n",
        "  routes = []\n",
        "  for c,qs in cluster_to_multiqry.items():\n",
        "    route = Route(\n",
        "        name=c,\n",
        "        utterances=qs,\n",
        "    )\n",
        "    routes.append(route)\n",
        "  return routes\n",
        "\n",
        "def sem_route_runner(cluster_to_multiqry):\n",
        "  routes = create_routes_for_cluster_to_multiqry(cluster_to_multiqry)\n",
        "  encoder = OpenAIEncoder()\n",
        "  rl = RouteLayer(encoder=encoder, routes=routes)\n",
        "  return rl"
      ],
      "metadata": {
        "id": "CC4LZWToccAF"
      },
      "execution_count": null,
      "outputs": []
    },
    {
      "cell_type": "markdown",
      "source": [
        "# Diversion Router"
      ],
      "metadata": {
        "id": "HDSAuRDWDCRa"
      }
    },
    {
      "cell_type": "code",
      "source": [
        "def get_med_routes():\n",
        "  rl =sem_route_runner({\n",
        "      \"medicine_route\":[\n",
        "          \"I have a little fever. What medicine I can use?\",\n",
        "          \"I have a headache for the last 2 days continuously. Can you suggest some medication?\",\n",
        "          \"My throat is sore and I have difficulty swallowing. What over-the-counter medicine would you recommend?\",\n",
        "          \"I accidentally cut my finger while cooking. What should I use to disinfect it?\",\n",
        "          \"I have been feeling nauseous lately. Any suggestions for over-the-counter medicine to relieve nausea?\",\n",
        "          \"I twisted my ankle while jogging. What pain reliever would you recommend?\",\n",
        "          \"I have a persistent cough with phlegm. What cough syrup would be effective?\",\n",
        "          \"My allergies are acting up. Can you suggest an antihistamine?\",\n",
        "          \"I have a skin rash that's itchy. What cream or ointment should I apply?\",\n",
        "          \"I suffer from occasional migraines. Can you recommend a medication that provides quick relief?\",\n",
        "          \"I have trouble sleeping at night. Are there any over-the-counter sleep aids you would recommend?\",\n",
        "          \"I accidentally burned my hand. What should I apply to soothe the burn?\",\n",
        "          \"I'm experiencing menstrual cramps. What pain reliever is best for relieving them?\",\n",
        "          \"I have been feeling constipated lately. Any over-the-counter remedies?\",\n",
        "          \"My child has a fever. What dosage of children's fever reducer should I give?\",\n",
        "      ],\n",
        "      \"symptoms_route\":[\n",
        "          \"I have a persistent cough with blood in my sputum. What could be the cause?\",\n",
        "          \"I feel a sharp pain in my chest when I breathe deeply. What might be causing this?\",\n",
        "          \"I have a rash on my skin that's spreading rapidly. What condition could this indicate?\",\n",
        "          \"I've been feeling extremely fatigued lately, even after a full night's sleep. What could be the reason?\",\n",
        "          \"I'm experiencing sudden weight loss without changing my diet or exercise routine. What might be causing this?\",\n",
        "          \"I have a tingling sensation and numbness in my fingers and toes. What could be the underlying issue?\",\n",
        "          \"I've been experiencing frequent headaches accompanied by blurred vision. What might be causing this?\",\n",
        "          \"I feel a lump in my breast. Should I be concerned about breast cancer?\",\n",
        "          \"I'm having difficulty concentrating and remembering things lately. What might be causing this cognitive decline?\",\n",
        "          \"I'm experiencing intense abdominal pain, especially after meals. What could be causing this digestive issue?\",\n",
        "          \"I have a persistent sore throat and difficulty swallowing. What condition could be causing these symptoms?\",\n",
        "          \"I've been experiencing frequent urination and increased thirst lately. What might be causing these symptoms?\",\n",
        "          \"I feel dizzy and lightheaded when I stand up quickly. What could be causing this sudden drop in blood pressure?\",\n",
        "          \"I'm experiencing joint pain and stiffness, especially in the mornings. What could be causing this?\",\n",
        "          \"I have a fever and a rash that looks like small red spots. What could be causing this combination of symptoms?\",\n",
        "      ],\n",
        "      \"general_route\":[\n",
        "          \"What are the symptoms and treatment options for dengue fever?\",\n",
        "          \"Can you explain the difference between viral and bacterial infections?\",\n",
        "          \"What are the risk factors for heart disease?\",\n",
        "          \"How does diabetes affect the body?\",\n",
        "          \"What are the recommended vaccinations for children?\",\n",
        "          \"Can you explain the importance of maintaining a healthy diet and lifestyle?\",\n",
        "          \"What are the early signs of Alzheimer's disease?\",\n",
        "          \"What is the difference between a cold and the flu?\",\n",
        "          \"How does stress impact overall health?\",\n",
        "          \"What are the potential complications of untreated hypertension?\",\n",
        "          \"Can you explain the benefits of regular exercise?\",\n",
        "          \"What is the recommended daily water intake for adults?\",\n",
        "          \"What are the symptoms and treatment options for asthma?\",\n",
        "          \"Can you explain the concept of herd immunity?\",\n",
        "          \"What are the common causes of food poisoning?\",\n",
        "      ]\n",
        "  })\n",
        "\n",
        "  return rl"
      ],
      "metadata": {
        "id": "ewf3gJNMDGyN"
      },
      "execution_count": null,
      "outputs": []
    },
    {
      "cell_type": "code",
      "source": [
        "def get_vis_routes():\n",
        "  rl =sem_route_runner({\n",
        "      \"blood\":[\n",
        "        \"I cut my finger while chopping vegetables, and blood gushed out.\",\n",
        "        \"After the accident, blood stained his clothes and dripped onto the floor.\",\n",
        "        \"She noticed blood in her urine and immediately called her doctor.\",\n",
        "        \"The dog's paw was injured, and blood trailed behind him as he limped.\",\n",
        "        \"In the crime scene, blood splatters marked the walls and floor.\",\n",
        "        \"The wound wasn't deep, but blood oozed out, staining the bandage.\",\n",
        "        \"He felt weak and dizzy as blood loss from the wound increased.\",\n",
        "        \"The surgeon worked quickly to stop the bleeding and clean the blood.\",\n",
        "        \"A small cut on her lip caused blood to trickle down her chin.\",\n",
        "        \"The victim's blood pooled beneath his body at the crime scene.\"\n",
        "      ]\n",
        "  })\n",
        "\n",
        "  return rl"
      ],
      "metadata": {
        "id": "ZxZ0YXT2I5O0"
      },
      "execution_count": null,
      "outputs": []
    },
    {
      "cell_type": "markdown",
      "source": [
        "# Context Search (Symp)"
      ],
      "metadata": {
        "id": "Zxc_e6JoeETK"
      }
    },
    {
      "cell_type": "code",
      "source": [
        "class ContSearchSymp:\n",
        "  def __init__(self,file_path='/content/drive/MyDrive/data_dive/dis_and_symptom.json'):\n",
        "    with open(file_path, \"r\") as json_file:\n",
        "      self.kb = json.load(json_file)\n",
        "    self.model = SparseModel()\n",
        "\n",
        "  def search(self, text, top_k = 5):\n",
        "    text_emb_ = self.model([text])[0]\n",
        "    text_emb = self.model.decode_sparse_dict(text_emb_)\n",
        "    sorted_res = sorted(self.kb, key=lambda x: np.dot(text_emb,self.model.decode_sparse_dict(x[2])))[-top_k:]\n",
        "    sorted_res_no_emb = [[_[0],_[1]] for _ in sorted_res]\n",
        "    return sorted_res_no_emb"
      ],
      "metadata": {
        "id": "DeemTYKLeJaD"
      },
      "execution_count": null,
      "outputs": []
    },
    {
      "cell_type": "markdown",
      "source": [
        "# Tools (General)"
      ],
      "metadata": {
        "id": "nSp4NDxDeKJU"
      }
    },
    {
      "cell_type": "code",
      "source": [
        "class WikiInputs(BaseModel):\n",
        "    \"\"\"Inputs to the wikipedia tool.\"\"\"\n",
        "\n",
        "    query: str = Field(\n",
        "        description=\"query to look up in Wikipedia, should be 4 or less words . Queries are related medical question answering.\"\n",
        "    )\n",
        "\n",
        "def get_med_wiki_tool():\n",
        "  api_wrapper = WikipediaAPIWrapper(top_k_results=1, doc_content_chars_max=1000)\n",
        "\n",
        "  tool = WikipediaQueryRun(api_wrapper=api_wrapper)\n",
        "\n",
        "  tool = WikipediaQueryRun(\n",
        "      name=\"wiki-tool\",\n",
        "      description=\"look up things realted to medical question answering in wikipedia\",\n",
        "      args_schema=WikiInputs,\n",
        "      api_wrapper=api_wrapper,\n",
        "      return_direct=True,\n",
        "  )\n",
        "\n",
        "  return tool"
      ],
      "metadata": {
        "id": "6bICgaQqeNDY"
      },
      "execution_count": null,
      "outputs": []
    },
    {
      "cell_type": "code",
      "source": [
        "def get_pumed_tool():\n",
        "  tool = PubmedQueryRun()\n",
        "  return tool"
      ],
      "metadata": {
        "id": "9HafKmAlnYLr"
      },
      "execution_count": null,
      "outputs": []
    },
    {
      "cell_type": "code",
      "source": [
        "def get_llm_tool():\n",
        "  prompt = PromptTemplate(\n",
        "    input_variables=[\"query\"],\n",
        "    template=\"{query}\"\n",
        "  )\n",
        "\n",
        "  llm_chain = LLMChain(llm=OpenAI(temperature=0.1), prompt=prompt)\n",
        "\n",
        "  # initialize the LLM tool\n",
        "  llm_tool = Tool(\n",
        "      name='Language Model',\n",
        "      func=llm_chain.run,\n",
        "      description='use this tool for general purpose queries and logic'\n",
        "  )\n",
        "  return llm_tool"
      ],
      "metadata": {
        "id": "9_asbELT_NHF"
      },
      "execution_count": null,
      "outputs": []
    },
    {
      "cell_type": "markdown",
      "source": [
        "# Clip Model"
      ],
      "metadata": {
        "id": "RqzTVSGFFqCu"
      }
    },
    {
      "cell_type": "code",
      "source": [
        "class ClipModelBlood:\n",
        "  def __init__(self):\n",
        "    self.model = CLIPModel.from_pretrained(\"openai/clip-vit-base-patch32\")\n",
        "    self.processor = CLIPProcessor.from_pretrained(\"openai/clip-vit-base-patch32\")\n",
        "    self.texts=[\n",
        "      \"Abrasion, Reddish-pink, minor bleeding\",\n",
        "      \"Laceration, Bright red, significant bleeding\",\n",
        "      \"Incision, Varies, depending on bleeding\",\n",
        "      \"Puncture, Small red spot, minimal bleeding\",\n",
        "      \"Avulsion, Deep red, heavy bleeding\",\n",
        "      \"Gunshot Wounds, Varies widely, deep red\",\n",
        "      \"Contusion, Purplish-red, blue-black, green, yellow\",\n",
        "      \"Hematoma, Reddish-purple, swollen area\",\n",
        "      \"Arterial Bleeding, Bright red, life-threatening\",\n",
        "      \"Venous Bleeding, Darker red, slower flow\"\n",
        "  ]\n",
        "\n",
        "  def __call__(self,image_path):\n",
        "    image = PIL.Image.open(image_path)\n",
        "    inputs = self.processor(self.texts, images=image, return_tensors=\"pt\", padding=True)\n",
        "    outputs = self.model(**inputs)\n",
        "    logits_per_image = outputs.logits_per_image\n",
        "    probs = logits_per_image.softmax(dim=1)\n",
        "    probs=probs.detach().numpy()\n",
        "    max_ind=np.argmax(probs)\n",
        "    return self.texts[max_ind]"
      ],
      "metadata": {
        "id": "Kgny7i3cFtYo"
      },
      "execution_count": null,
      "outputs": []
    },
    {
      "cell_type": "markdown",
      "source": [
        "# Convversational Chain (With memory)"
      ],
      "metadata": {
        "id": "hZ8pG41WhVFN"
      }
    },
    {
      "cell_type": "code",
      "source": [
        "class ConvMain:\n",
        "  def __init__(self):\n",
        "    template = \"\"\"You are a chatbot having a conversation with a human regarding medical queries.\n",
        "\n",
        "    Given the following extracted parts of a long document and a question, create a final answer.\n",
        "\n",
        "    {context}\n",
        "\n",
        "    {chat_history}\n",
        "    Human: {human_input}\n",
        "    Chatbot:\"\"\"\n",
        "\n",
        "    self.prompt = PromptTemplate(\n",
        "        input_variables=[\"chat_history\", \"human_input\", \"context\"], template=template\n",
        "    )\n",
        "\n",
        "    self.reset_chain()\n",
        "\n",
        "    self.pub_med_toll = get_pumed_tool()\n",
        "    self.med_wiki_tool = get_med_wiki_tool()\n",
        "\n",
        "    self.med_routes = get_med_routes()\n",
        "    self.vis_routes = get_vis_routes()\n",
        "\n",
        "    self.clip_model_blood = ClipModelBlood()\n",
        "\n",
        "    self.reset_chain()\n",
        "\n",
        "  def reset_chain(self):\n",
        "    self.memory = ConversationBufferMemory(memory_key=\"chat_history\", input_key=\"human_input\")\n",
        "    self.chain = load_qa_chain(\n",
        "            OpenAI(temperature=0), chain_type=\"stuff\", memory=self.memory, prompt=self.prompt\n",
        "        )\n",
        "\n",
        "  def __call__(self, query, symp_image_path = None):\n",
        "    route = self.med_routes(query).name\n",
        "    # visual_route = self.vis_routes(query).name\n",
        "\n",
        "    if symp_image_path is not None:# and visual_route == 'blood':\n",
        "      print(\"blood wound route active\")\n",
        "      vis_text = self.clip_model_blood(symp_image_path)\n",
        "      add_qry = f\"\\n I have blood wound : <{vis_text}>\"\n",
        "      query+=add_qry\n",
        "\n",
        "    if route=='medicine_route' or route=='symptoms_route':\n",
        "      context = self.pub_med_toll.invoke(query)\n",
        "    elif route=='general_route':\n",
        "      context = self.med_wiki_tool.invoke(query) + '\\n' + self.pub_med_toll.invoke(query)\n",
        "    else:\n",
        "      print(\"Warning: High Chances of not realted to med qry\")\n",
        "      context = \"\"\n",
        "\n",
        "    print(\"-------------- Context --------------\")\n",
        "    print(\"Route: \",route)\n",
        "    print(context)\n",
        "    print(\"--------------------------------------\")\n",
        "\n",
        "    ans = self.chain.invoke({\"input_documents\": [Document(context)], \"human_input\": query}, return_only_outputs=True)['output_text']\n",
        "    return ans"
      ],
      "metadata": {
        "id": "EOG2jV9ghG08"
      },
      "execution_count": null,
      "outputs": []
    },
    {
      "cell_type": "markdown",
      "source": [
        "# Wrapper (Main Function)"
      ],
      "metadata": {
        "id": "VWaPsBr3ceeO"
      }
    },
    {
      "cell_type": "code",
      "source": [
        "class ConvMainWrapper:\n",
        "  def __init__(self):\n",
        "    self.conv_mains = {}\n",
        "    self.univ_buffer = {}\n",
        "    self.user_routes = None\n",
        "    self.spl_model = SparseModel()\n",
        "\n",
        "  def get_buffer(self,u_name):\n",
        "    return self.conv_mains[u_name].memory.buffer\n",
        "\n",
        "  def store_in_universal_buffer(self,u_name):\n",
        "    tag_ans = run_symptom_tagger(self.conv_mains[u_name].memory.buffer[:512]) # Subject to change\n",
        "    if tag_ans['is_symptom'].lower()=='yes':\n",
        "      self.univ_buffer[u_name] = tag_ans['symptoms']\n",
        "    self.user_routes = sem_route_runner(self.univ_buffer)\n",
        "\n",
        "  def search_for_sim_pat(self,u_name):\n",
        "    tag_ans = run_symptom_tagger(self.conv_mains[u_name].memory.buffer[:512])\n",
        "    if tag_ans['is_symptom'].lower()=='yes':\n",
        "      closest_match = self.user_routes(',  '.join(tag_ans['symptoms']))\n",
        "\n",
        "    if closest_match.name is None:\n",
        "      print(\"No Similar User Found\")\n",
        "    return closest_match.name\n",
        "\n",
        "  def __call__(self,u_name,query,symp_image_path=None):\n",
        "    if u_name not in self.conv_mains:\n",
        "      self.conv_mains[u_name] = ConvMain()\n",
        "\n",
        "    flag = len(self.get_buffer(u_name))==0\n",
        "    res =  self.conv_mains[u_name](query, symp_image_path)\n",
        "\n",
        "    if flag:\n",
        "      if run_filter_tagger(query)['is_relevant'].lower()=='no':\n",
        "        print(f\"Warning: User {u_name} # SPAM Detected #\")\n",
        "      else:\n",
        "        print(f\"#OK#\")\n",
        "    return res"
      ],
      "metadata": {
        "id": "xjlw7PaR_vcy"
      },
      "execution_count": 374,
      "outputs": []
    },
    {
      "cell_type": "markdown",
      "source": [
        "# Test"
      ],
      "metadata": {
        "id": "QkBMXVSCiQCW"
      }
    },
    {
      "cell_type": "code",
      "source": [
        "conv_main_wrapper = ConvMainWrapper()"
      ],
      "metadata": {
        "id": "X9hig45ElBce"
      },
      "execution_count": 375,
      "outputs": []
    },
    {
      "cell_type": "code",
      "source": [
        "conv_main_wrapper(\"user1\",\"What is the medicine of Dengue\")"
      ],
      "metadata": {
        "colab": {
          "base_uri": "https://localhost:8080/",
          "height": 288
        },
        "id": "fHEw5D6wmoBR",
        "outputId": "76344ed6-6ced-4d35-b24d-bbf082f2b88c"
      },
      "execution_count": 376,
      "outputs": [
        {
          "output_type": "stream",
          "name": "stderr",
          "text": [
            "\u001b[32m2024-03-16 08:58:29 INFO semantic_router.utils.logger local\u001b[0m\n",
            "\u001b[32m2024-03-16 08:58:30 INFO semantic_router.utils.logger local\u001b[0m\n"
          ]
        },
        {
          "output_type": "stream",
          "name": "stdout",
          "text": [
            "Too Many Requests, waiting for 0.20 seconds...\n",
            "-------------- Context --------------\n",
            "Route:  medicine_route\n",
            "Published: 2024-03-15\n",
            "Title: Detection of pathogenic Leptospira with rapid extraction followed by recombinase polymerase amplification (RPA) and quantitative polymerase chain reaction (qPCR) assay-A comprehensive study from Sri Lanka.\n",
            "Copyright Information: Copyright: © 2024 Uduwawala et al. This is an open access article distributed under the terms of the Creative Commons Attribution License, which permits unrestricted use, distribution, and reproduction in any medium, provided the original author and source are credited.\n",
            "Summary::\n",
            "Leptospirosis is the most widespread zoonosis in the world. The disease is more prevalent in tropical regions where the majority of developing countries are located. Leptospirosis is considered a protean manifestation zoonosis with severity of the disease ranging from a mild febrile illness to a severe and life-threatening illness. Clinical symptoms of leptospirosis overlap with other tropical febrile illnesses. Early, rapid, and definitive diagnosis is important for effective patient management. Since Polymerase Chain Reaction (PCR)-based assays are not readily available in most clinical settings, there is a need for an affordable, simple, and rapid diagnostic test. Quantitative PCR (qPCR) and Recombinase Polymerase Amplification (RPA) were implemented at the Faculty of Medicine, University of Kelaniya, and a prospective study to evaluate RPA for diagnosis of acute phase of leptospirosis was conducted. Results indicate that RPA and qPCR were positive in 81% (98/121) of the total positive and acute clinical samples. Of the 81 positive MAT confirmed patients 60 (74%) and 53 (65%) were positive with qPCR and RPA respectively. Retrospective evaluation revealed a high diagnostic accuracy (sensitivity-70% and specificity-87%) of RPA compared to MAT as the reference gold standard. Results further suggest that there is no significant difference between the two assays, qPCR and RPA-SwiftX (P = 0.40). Laboratory procedures for the extraction and \n",
            "--------------------------------------\n",
            "#OK#\n"
          ]
        },
        {
          "output_type": "execute_result",
          "data": {
            "text/plain": [
              "' There is currently no specific medicine for Dengue. Treatment mainly focuses on relieving symptoms and preventing complications. It is important to seek medical attention immediately if you suspect you have Dengue.'"
            ],
            "application/vnd.google.colaboratory.intrinsic+json": {
              "type": "string"
            }
          },
          "metadata": {},
          "execution_count": 376
        }
      ]
    },
    {
      "cell_type": "code",
      "source": [
        "conv_main_wrapper(\"user2\",\"Hi how are you ?\")"
      ],
      "metadata": {
        "colab": {
          "base_uri": "https://localhost:8080/",
          "height": 178
        },
        "id": "yIXJbLWXBPn9",
        "outputId": "149aa16d-8d46-4f2c-cecf-013bbd592d29"
      },
      "execution_count": 377,
      "outputs": [
        {
          "output_type": "stream",
          "name": "stderr",
          "text": [
            "\u001b[32m2024-03-16 08:59:17 INFO semantic_router.utils.logger local\u001b[0m\n",
            "\u001b[32m2024-03-16 08:59:38 INFO semantic_router.utils.logger local\u001b[0m\n"
          ]
        },
        {
          "output_type": "stream",
          "name": "stdout",
          "text": [
            "Warning: High Chances of not realted to med qry\n",
            "-------------- Context --------------\n",
            "Route:  None\n",
            "\n",
            "--------------------------------------\n",
            "Warning: User user2 # SPAM Detected #\n"
          ]
        },
        {
          "output_type": "execute_result",
          "data": {
            "text/plain": [
              "' Hello! I am a medical chatbot. How can I assist you today?'"
            ],
            "application/vnd.google.colaboratory.intrinsic+json": {
              "type": "string"
            }
          },
          "metadata": {},
          "execution_count": 377
        }
      ]
    },
    {
      "cell_type": "code",
      "source": [
        "conv_main_wrapper(\"user3\",\"Is it a case of serious blood loss? \", \"/content/images.jpeg\")"
      ],
      "metadata": {
        "colab": {
          "base_uri": "https://localhost:8080/",
          "height": 214
        },
        "id": "rlsAr4p7Kqt5",
        "outputId": "c6c4e97a-c804-4cd8-cec6-e60742faa7e7"
      },
      "execution_count": 378,
      "outputs": [
        {
          "output_type": "stream",
          "name": "stderr",
          "text": [
            "\u001b[32m2024-03-16 09:00:23 INFO semantic_router.utils.logger local\u001b[0m\n",
            "\u001b[32m2024-03-16 09:00:44 INFO semantic_router.utils.logger local\u001b[0m\n"
          ]
        },
        {
          "output_type": "stream",
          "name": "stdout",
          "text": [
            "blood wound route active\n",
            "-------------- Context --------------\n",
            "Route:  symptoms_route\n",
            "No good PubMed Result was found\n",
            "--------------------------------------\n",
            "#OK#\n"
          ]
        },
        {
          "output_type": "execute_result",
          "data": {
            "text/plain": [
              "' Based on the information provided, it does not seem to be a case of serious blood loss. However, it is important to properly clean and dress the wound to prevent infection and promote healing. If the bleeding does not stop or the wound becomes more severe, it is recommended to seek medical attention.'"
            ],
            "application/vnd.google.colaboratory.intrinsic+json": {
              "type": "string"
            }
          },
          "metadata": {},
          "execution_count": 378
        }
      ]
    },
    {
      "cell_type": "code",
      "source": [
        "conv_main_wrapper(\"user3\",\"Will I die ?\")"
      ],
      "metadata": {
        "colab": {
          "base_uri": "https://localhost:8080/",
          "height": 160
        },
        "id": "SsVePld0M6gc",
        "outputId": "80d51337-1cb0-4296-b571-6517875d7c54"
      },
      "execution_count": 379,
      "outputs": [
        {
          "output_type": "stream",
          "name": "stdout",
          "text": [
            "Warning: High Chances of not realted to med qry\n",
            "-------------- Context --------------\n",
            "Route:  None\n",
            "\n",
            "--------------------------------------\n"
          ]
        },
        {
          "output_type": "execute_result",
          "data": {
            "text/plain": [
              "' There is no indication that this wound will be life-threatening. However, it is important to properly care for the wound to prevent any potential complications. If you experience any concerning symptoms or the wound does not heal properly, it is best to consult a medical professional.'"
            ],
            "application/vnd.google.colaboratory.intrinsic+json": {
              "type": "string"
            }
          },
          "metadata": {},
          "execution_count": 379
        }
      ]
    },
    {
      "cell_type": "code",
      "source": [
        "conv_main_wrapper(\"user3\",\"Is fast aid is enough ? \")"
      ],
      "metadata": {
        "colab": {
          "base_uri": "https://localhost:8080/",
          "height": 143
        },
        "id": "bJsQJ0sJNaNT",
        "outputId": "910d4c3c-0360-4573-ce9c-0585cdfa9907"
      },
      "execution_count": 380,
      "outputs": [
        {
          "output_type": "stream",
          "name": "stdout",
          "text": [
            "Warning: High Chances of not realted to med qry\n",
            "-------------- Context --------------\n",
            "Route:  None\n",
            "\n",
            "--------------------------------------\n"
          ]
        },
        {
          "output_type": "execute_result",
          "data": {
            "text/plain": [
              "' It depends on the severity of the wound. If it is a minor abrasion with minor bleeding, fast aid may be enough. However, if the bleeding is severe or the wound is deep, it is best to seek medical attention for proper treatment.'"
            ],
            "application/vnd.google.colaboratory.intrinsic+json": {
              "type": "string"
            }
          },
          "metadata": {},
          "execution_count": 380
        }
      ]
    },
    {
      "cell_type": "code",
      "source": [
        "conv_main_wrapper(\"user4\",\"I am suffering from high fever along with headache. I am also feeling nausea. What can it be\")"
      ],
      "metadata": {
        "colab": {
          "base_uri": "https://localhost:8080/",
          "height": 125
        },
        "id": "Pa7OUlVtN1uB",
        "outputId": "6eb9ed14-9e49-47a8-a903-d0af7f056d50"
      },
      "execution_count": 385,
      "outputs": [
        {
          "output_type": "stream",
          "name": "stdout",
          "text": [
            "-------------- Context --------------\n",
            "Route:  symptoms_route\n",
            "No good PubMed Result was found\n",
            "--------------------------------------\n"
          ]
        },
        {
          "output_type": "execute_result",
          "data": {
            "text/plain": [
              "' It is possible that you have a viral or bacterial infection, which can cause symptoms such as high fever, headache, and nausea. It is important to see a doctor for proper diagnosis and treatment.'"
            ],
            "application/vnd.google.colaboratory.intrinsic+json": {
              "type": "string"
            }
          },
          "metadata": {},
          "execution_count": 385
        }
      ]
    },
    {
      "cell_type": "code",
      "source": [
        "conv_main_wrapper(\"user4\",\"Along with that inflammation and fluid in your lungs caused by a bacterial, viral or fungal infection\")"
      ],
      "metadata": {
        "colab": {
          "base_uri": "https://localhost:8080/",
          "height": 143
        },
        "id": "6orVsqRrOEWH",
        "outputId": "80f08fac-b6f5-4fc3-c35f-b298eb5a899d"
      },
      "execution_count": 386,
      "outputs": [
        {
          "output_type": "stream",
          "name": "stdout",
          "text": [
            "Warning: High Chances of not realted to med qry\n",
            "-------------- Context --------------\n",
            "Route:  None\n",
            "\n",
            "--------------------------------------\n"
          ]
        },
        {
          "output_type": "execute_result",
          "data": {
            "text/plain": [
              "' It is possible that you have a respiratory infection, which can be caused by bacteria, viruses, or fungi. This can lead to inflammation and fluid buildup in your lungs. It is important to see a doctor for proper diagnosis and treatment.'"
            ],
            "application/vnd.google.colaboratory.intrinsic+json": {
              "type": "string"
            }
          },
          "metadata": {},
          "execution_count": 386
        }
      ]
    },
    {
      "cell_type": "code",
      "source": [
        "conv_main_wrapper.store_in_universal_buffer(\"user4\")"
      ],
      "metadata": {
        "colab": {
          "base_uri": "https://localhost:8080/"
        },
        "id": "1a4wPnWJO02c",
        "outputId": "0e7b2f84-60fc-4a1c-ac47-21820c58b603"
      },
      "execution_count": 387,
      "outputs": [
        {
          "output_type": "stream",
          "name": "stderr",
          "text": [
            "\u001b[32m2024-03-16 09:03:49 INFO semantic_router.utils.logger local\u001b[0m\n"
          ]
        }
      ]
    },
    {
      "cell_type": "code",
      "source": [
        "conv_main_wrapper(\"user5\",\"I am having from high fever and headache from morning. What can it be\")"
      ],
      "metadata": {
        "colab": {
          "base_uri": "https://localhost:8080/",
          "height": 323
        },
        "id": "_mgklE2USHTV",
        "outputId": "67b7802a-8516-4162-b21d-352267114ed6"
      },
      "execution_count": 390,
      "outputs": [
        {
          "output_type": "stream",
          "name": "stderr",
          "text": [
            "\u001b[32m2024-03-16 09:11:48 INFO semantic_router.utils.logger local\u001b[0m\n",
            "\u001b[32m2024-03-16 09:11:49 INFO semantic_router.utils.logger local\u001b[0m\n"
          ]
        },
        {
          "output_type": "stream",
          "name": "stdout",
          "text": [
            "-------------- Context --------------\n",
            "Route:  symptoms_route\n",
            "Published: 2021-05-17\n",
            "Title: Reconvalescent plasma/camostat mesylate in early SARS-CoV-2 Q-PCR positive high-risk individuals (RES-Q-HR): a structured summary of a study protocol for a randomized controlled trial.\n",
            "Copyright Information: \n",
            "Summary::\n",
            "OBJECTIVES: Currently, there are no approved treatments for early disease stages of COVID-19 and few strategies to prevent disease progression after infection with SARS-CoV-2. The objective of this study is to evaluate the safety and efficacy of convalescent plasma (CP) or camostat mesylate administered within 72 h of diagnosis of SARS-CoV-2 infection in adult individuals with pre-existing risk factors at higher risk of getting seriously ill with COVID-19. Camostat mesylate acts as an inhibitor of the host cell serine protease TMPRSS2 and prevents the virus from entering the cell. CP represents another antiviral strategy in terms of passive immunization. The working hypothesis to be tested in the RES-Q-HR study is that the early use of CP or camostat mesylate reduces the likelihood of disease progression to (modified) WHO stages 4b-8 in SARS-CoV-2-positive adult patients at high risk of moderate or severe COVID-19 progression.\n",
            "TRIAL DESIGN: This study is a 4-arm (parallel group), multicenter, randomized (2:2:1:1 ratio), partly double-blind, controlled trial to evaluate the safety and efficacy of convalescent plasma (CP) or camostat mesylate with control or placebo in adult patients diagnosed with SARS-CoV-2 infection and high risk for progression to moderate/severe COVID-19. Superiority of the intervention arms will be tested.\n",
            "PARTICIPANTS: The trial is conducted at 10-15 tertiary care centers in Germany. Individuals aged 18 years or above with ability to provide written informed consent with SARS-CoV-2 infection, confirmed by PCR within 3 days or less before enrolment and the presence of at least one SARS-CoV-2 symptom (such as fever, cough, shortness of breath, sore throat, headache, fatigue, smell/and or taste disorder,\n",
            "--------------------------------------\n",
            "#OK#\n"
          ]
        },
        {
          "output_type": "execute_result",
          "data": {
            "text/plain": [
              "' Based on the information provided, it is possible that you may have a SARS-CoV-2 infection. It is important to get tested for COVID-19 and seek medical attention as soon as possible. Early treatment with convalescent plasma or camostat mesylate may help prevent disease progression. Please consult with a healthcare professional for further evaluation and treatment.'"
            ],
            "application/vnd.google.colaboratory.intrinsic+json": {
              "type": "string"
            }
          },
          "metadata": {},
          "execution_count": 390
        }
      ]
    },
    {
      "cell_type": "code",
      "source": [
        "sim_user = conv_main_wrapper.search_for_sim_pat(\"user5\")\n",
        "if sim_user is not None:\n",
        "  conv_of_sim_user = conv_main_wrapper.get_buffer(sim_user)\n",
        "  print(f\"User: {sim_user}\")\n",
        "  print(conv_of_sim_user)"
      ],
      "metadata": {
        "colab": {
          "base_uri": "https://localhost:8080/"
        },
        "id": "kw5mQUqSO94q",
        "outputId": "d09ddd7e-8e49-4575-f1ee-692990a56079"
      },
      "execution_count": 391,
      "outputs": [
        {
          "output_type": "stream",
          "name": "stdout",
          "text": [
            "User: user4\n",
            "Human: Along with that inflammation and fluid in your lungs caused by a bacterial, viral or fungal infection\n",
            "AI:  It is possible that you have a respiratory infection, which can be caused by bacteria, viruses, or fungi. This can lead to inflammation and fluid buildup in your lungs. It is important to see a doctor for proper diagnosis and treatment.\n",
            "Human: I am suffering from high fever along with headache. I am also feeling nausea. What can it be\n",
            "AI:  It is possible that you have a viral or bacterial infection, which can cause symptoms such as high fever, headache, and nausea. It is important to see a doctor for proper diagnosis and treatment.\n",
            "Human: Along with that inflammation and fluid in your lungs caused by a bacterial, viral or fungal infection\n",
            "AI:  It is possible that you have a respiratory infection, which can be caused by bacteria, viruses, or fungi. This can lead to inflammation and fluid buildup in your lungs. It is important to see a doctor for proper diagnosis and treatment.\n",
            "Human: I am having from high fever and headache from morning. What can it be\n",
            "AI:  It is possible that you have a viral or bacterial infection, which can cause symptoms such as high fever and headache. It is important to see a doctor for proper diagnosis and treatment.\n"
          ]
        }
      ]
    },
    {
      "cell_type": "code",
      "source": [],
      "metadata": {
        "id": "W0plKKn2TLIT"
      },
      "execution_count": null,
      "outputs": []
    }
  ]
}